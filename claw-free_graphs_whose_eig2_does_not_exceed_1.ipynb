{
 "cells": [
  {
   "cell_type": "markdown",
   "id": "c31f5345",
   "metadata": {},
   "source": [
    "### Computational Companion to: \"Connected Claw-Free Graphs whose Second Largest Eigenvalue Does Not Exceed 1\"\n",
    "\n",
    "**Authors**: Chaochui Chen, Haiying Shan, Muhuo Liu, Zoran Stanić  \n",
    "**Software**: SageMath 10.5+  \n",
    "**Date**: February 2025\n",
    "\n",
    "\n",
    "---"
   ]
  },
  {
   "cell_type": "markdown",
   "id": "0163cc9b",
   "metadata": {
    "vscode": {
     "languageId": "sage"
    }
   },
   "source": [
    " #### This code implements calculations for the paper:\"Connected claw - free graphs whose second largest eigenvalue does not exceed 1\"\n",
    "\n",
    "### Variable Correspondence Table\n",
    "\n",
    "| Code Variable      | Paper Notation                          |\n",
    "|--------------------|-----------------------------------------|\n",
    "| `G1`               | $\\mathcal{G}_1$                         |\n",
    "| `G2`               | $\\mathcal{G}_2$                         |\n",
    "| `G3`               | $\\mathcal{G}_3$                         |\n",
    "| `H0_minus`         | $H_0^{-}$                               |\n",
    "| `H0_plus`          | $H_0^{+}$                               |\n",
    "| `H_plus`           | $H^+$                                   |\n",
    "| `classified_graphs[i]` | $H_i^{+}$ (i = 1, 2, 3, 4, 5, 6)    |\n",
    "| `G3_0`             | $\\bigcup_{H_1\\in \\mathcal{H}_{0}^{-}}\\mathcal{M}(\\mathcal{G}(H_1))$ |"
   ]
  },
  {
   "cell_type": "markdown",
   "id": "e394da80",
   "metadata": {},
   "source": [
    "# Basic Function Definitions"
   ]
  },
  {
   "cell_type": "code",
   "execution_count": 1,
   "id": "1143d696-c026-44e1-84ff-0ed417feff83",
   "metadata": {
    "vscode": {
     "languageId": "sage"
    }
   },
   "outputs": [],
   "source": [
    "# Use ~G to denote the complement of graph G\n",
    "Graph.__invert__ = Graph.complement\n",
    "\n",
    "def P(n):\n",
    "    \"\"\"\n",
    "    Returns a path graph with n vertices.\n",
    "    \n",
    "    Parameters:\n",
    "    n (int): Number of vertices in the path graph\n",
    "    \n",
    "    Returns:\n",
    "    Graph: The path graph P_n\n",
    "    \"\"\"\n",
    "    return graphs.PathGraph(n)\n",
    "\n",
    "def C(n):\n",
    "    \"\"\"\n",
    "    Returns a cycle graph with n vertices.\n",
    "    \n",
    "    Parameters:\n",
    "    n (int): Number of vertices in the cycle graph\n",
    "    \n",
    "    Returns:\n",
    "    Graph: The cycle graph C_n\n",
    "    \"\"\"\n",
    "    return graphs.CycleGraph(n)\n",
    "\n",
    "def K(*args):\n",
    "    \"\"\"\n",
    "    Returns a complete graph or complete bipartite graph.\n",
    "    \n",
    "    Parameters:\n",
    "    *args: Variable length argument list\n",
    "        - If one argument: n (int) - number of vertices for complete graph K_n\n",
    "        - If two arguments: a, b (int) - sizes of bipartition for complete bipartite graph K_{a,b}\n",
    "    \n",
    "    Returns:\n",
    "    Graph: The complete graph K_n or complete bipartite graph K_{a,b}\n",
    "    \"\"\"\n",
    "    if len(args) == 1:\n",
    "        return graphs.CompleteGraph(args[0])\n",
    "    elif len(args) == 2:\n",
    "        return graphs.CompleteBipartiteGraph(args[0], args[1])\n",
    "\n",
    "def U(List,n):\n",
    "    \"\"\"\n",
    "    Constructs a unicyclic graph U^{List}_{n} with specified pendant vertices attached to cycle vertices.\n",
    "    \n",
    "    Parameters:\n",
    "    List (list): List of integers where List[i] specifies number of pendant vertices to attach to vertex i of the cycle\n",
    "    n (int): Length of the cycle in the unicyclic graph\n",
    "    \n",
    "    Returns:\n",
    "    Graph: The constructed unicyclic graph U^{List}_{n}\n",
    "    \n",
    "    Notes:\n",
    "    - If len(List) < n, List is padded with zeros\n",
    "    - The graph consists of an n-cycle with pendant vertices attached according to List\n",
    "    \"\"\"\n",
    "    List = List + [0] * (n - len(List)) if len(List) < n else List\n",
    "    G = C(n)\n",
    "    for i,x in enumerate(List):\n",
    "        if x:\n",
    "            G.add_edges([(i,j) for j in range(G.order(),G.order()+x)])\n",
    "    return Graph(G.edges())\n",
    "\n",
    "def T(a,b,c):\n",
    "    \"\"\"\n",
    "    Returns the tree T_{a,b;c}.\n",
    "    \n",
    "    Parameters:\n",
    "    a (int): Number of leaves attached to the first vertex of the path\n",
    "    b (int): Number of leaves attached to the last vertex of the path\n",
    "    c (int): Length of the central path\n",
    "    \n",
    "    Returns:\n",
    "    Graph: The tree T_{a,b;c}\n",
    "    \"\"\"\n",
    "    G = P(c+1)\n",
    "    G.add_edges([(0,j) for j in range(c+1,c+1+a)] + [(c,j) for j in range(c+1+a,c+1+a+b)])\n",
    "    return Graph(G.edges())\n",
    "\n",
    "def B(a,b):\n",
    "    \"\"\"\n",
    "    Returns the graph B_{a,b}.\n",
    "    \n",
    "    Parameters:\n",
    "    a (int): Number of vertices connected to both v1 and v2\n",
    "    b (int): Number of vertices connected to both v1 and v4\n",
    "    \n",
    "    Returns:\n",
    "    Graph: The graph B_{a,b}\n",
    "    \"\"\"\n",
    "    G = C(4)  \n",
    "    G.add_vertices(range(4, 4 + a + b))  \n",
    "    \n",
    "    for i in range(4, 4 + a):\n",
    "        G.add_edge(0, i)\n",
    "        G.add_edge(1, i)\n",
    "    \n",
    "    for i in range(4 + a, 4 + a + b):\n",
    "        G.add_edge(0, i)\n",
    "        G.add_edge(3, i)\n",
    "    \n",
    "    return Graph(G.edges())\n",
    "\n",
    "def B_minus(a,b):\n",
    "    \"\"\"\n",
    "    Returns the graph B_{a,b}^{-} by removing vertex v3 from B_{a,b}.\n",
    "    \n",
    "    Parameters:\n",
    "    a (int): Number of vertices connected to both v1 and v2\n",
    "    b (int): Number of vertices connected to both v1 and v4\n",
    "    \n",
    "    Returns:\n",
    "    Graph: The graph B_{a,b}^{-}\n",
    "    \"\"\"\n",
    "    G = B(a,b)\n",
    "    G.delete_vertex(3)\n",
    "    return G.Relabel()\n",
    "\n",
    "def is_eig_2_not_exceeding_1(G):\n",
    "    \"\"\"\n",
    "    Determines if the second largest eigenvalue of a graph G does not exceed 1.\n",
    "    \n",
    "    Parameters:\n",
    "    G: A graph\n",
    "    \n",
    "    Returns:\n",
    "    bool: True if the second largest eigenvalue ≤ 1, False otherwise\n",
    "    \"\"\"\n",
    "    f = G.charpoly('x')\n",
    "    return f.number_of_roots_in_interval(1, Infinity) - (f(1) == 0) <= 1\n",
    "\n",
    "def is_eig_min_at_least_neg_2(G):\n",
    "    \"\"\"\n",
    "    Determines if the smallest eigenvalue of a graph G is at least -2.\n",
    "    \n",
    "    Parameters:\n",
    "    G: A graph\n",
    "    \n",
    "    Returns:\n",
    "    bool: True if the smallest eigenvalue ≥ -2, False otherwise\n",
    "    \"\"\"\n",
    "    f=G.charpoly('x')    \n",
    "    return f.number_of_roots_in_interval(-Infinity, -2) - (f(-2) == 0) == 0\n",
    "\n",
    "def graph_unique(graphs_list, index_only=False):\n",
    "    \"\"\"\n",
    "    Returns a list of non-isomorphic graphs from the input list.\n",
    "    \n",
    "    Parameters:\n",
    "    graphs_list (list): A list of graphs\n",
    "    index_only (bool): If True, returns indices of unique graphs instead of the graphs themselves\n",
    "    \n",
    "    Returns:\n",
    "    list: A list of non-isomorphic graphs (or their indices) from the input list\n",
    "    \"\"\"\n",
    "    unique_graphs_dict = {}\n",
    "\n",
    "    for i, G in enumerate(graphs_list):\n",
    "        Gstr = G.canonical_label().graph6_string()\n",
    "        unique_graphs_dict.setdefault(Gstr, []).append(i)\n",
    "    if index_only:\n",
    "        return [indices[0] for indices in unique_graphs_dict.values()]\n",
    "    return [graphs_list[indices[0]] for indices in unique_graphs_dict.values()]\n",
    "\n",
    "def classify_connected_induced_subgraphs_by_smallest_eigenvalue_less_than_negative_2_or_not(G):\n",
    "    \"\"\"\n",
    "    Classifies all connected induced subgraphs of G based on their smallest eigenvalue.\n",
    "    \n",
    "    Parameters:\n",
    "    G: A graph\n",
    "    \n",
    "    Returns:\n",
    "    list: [L1,L2] where:\n",
    "        L1: List of connected induced subgraphs with smallest eigenvalue < -2\n",
    "        L2: List of connected induced subgraphs with smallest eigenvalue ≥ -2\n",
    "    Note: Each list contains non-isomorphic graphs only\n",
    "    \"\"\"\n",
    "    if is_eig_min_at_least_neg_2(G):\n",
    "        return [[], list(G.connected_subgraph_iterator())]\n",
    "    \n",
    "    all_subgraphs = graph_unique(list(G.connected_subgraph_iterator()))\n",
    "    \n",
    "    L1 = [G0.Relabel() for G0 in all_subgraphs if not is_eig_min_at_least_neg_2(G0)]\n",
    "    L2 = [G0.Relabel() for G0 in all_subgraphs if is_eig_min_at_least_neg_2(G0)]\n",
    "    \n",
    "    return [L1, L2]\n",
    "\n",
    "def minimal_subgraphs(Glist):\n",
    "    \"\"\"\n",
    "    Returns all minimal graphs from a list of graphs.\n",
    "    \n",
    "    Parameters:\n",
    "    Glist (list): A list of graphs\n",
    "    \n",
    "    Returns:\n",
    "    list: A list of minimal graphs from Glist, where a graph G is minimal if no other graph in Glist \n",
    "          is a proper induced subgraph of G\n",
    "    \"\"\"\n",
    "    return [\n",
    "        G for i, G in enumerate(Glist)\n",
    "        if all(\n",
    "            not G0.is_subgraph(G, induced=True, up_to_isomorphism=True)\n",
    "            for G0 in Glist\n",
    "            if G0.order() < G.order() and all(G0.degree_sequence()[k] <= G.degree_sequence()[k] for k in range(G0.order()))\n",
    "        )\n",
    "    ]\n",
    "\n",
    "def maximal_subgraphs(Glist, index_only=False):\n",
    "    \"\"\"\n",
    "    Returns all maximal graphs from a list of non-isomorphic graphs.\n",
    "    \n",
    "    Parameters:\n",
    "    Glist (list): A list of graphs\n",
    "    index_only (bool): If True, returns indices of maximal graphs instead of the graphs themselves\n",
    "    \n",
    "    Returns:\n",
    "    list: A list of maximal graphs from Glist (or their indices), where a graph G is maximal if it is not \n",
    "          a proper induced subgraph of any other graph in Glist\n",
    "    \"\"\"\n",
    "    maximal_graphs_index = [\n",
    "        i for i, G in enumerate(Glist)\n",
    "        if all(\n",
    "            not G.is_subgraph(G0, induced=True, up_to_isomorphism=True)\n",
    "            for G0 in Glist\n",
    "            if G0.order() > G.order() and all(G0.degree_sequence()[k] >= G.degree_sequence()[k] for k in range(G.order()))\n",
    "        )\n",
    "    ]\n",
    "\n",
    "    return maximal_graphs_index if index_only else [Glist[i] for i in maximal_graphs_index]\n",
    "    \n",
    "def maximal_independent_number_for_fixed_VG_minus_H1(G):\n",
    "    \"\"\"\n",
    "    Returns the maximum size of isolated vertices such that the second largest eigenvalue of the complement \n",
    "    of G union these isolated vertices does not exceed 1.\n",
    "    \n",
    "    Parameters:\n",
    "    G: A graph\n",
    "    \n",
    "    Returns:\n",
    "    int: Maximum number of isolated vertices that can be added while keeping λ2 ≤ 1, or -1 if λ2 of ~G > 1\n",
    "    \"\"\"\n",
    "    if not is_eig_2_not_exceeding_1(~G):\n",
    "        return -1\n",
    "    k = 0\n",
    "    while is_eig_2_not_exceeding_1(~(G + (k+1)*K(1))):\n",
    "        k += 1\n",
    "    return k"
   ]
  },
  {
   "cell_type": "markdown",
   "id": "93523dbb",
   "metadata": {},
   "source": [
    "# Specified graphs shown in Figures 1-3"
   ]
  },
  {
   "cell_type": "code",
   "execution_count": 2,
   "id": "bbf84548",
   "metadata": {
    "vscode": {
     "languageId": "sage"
    }
   },
   "outputs": [],
   "source": [
    "D1=Graph('LhCGOO_GC?O?_?')\n",
    "D2=Graph('LhCGOOG_@?C?_?')\n",
    "D3=Graph('LhCGOQ?G@?@?A?')\n",
    "D4=Graph('LhC`?OGA?O@?A?')\n",
    "D5=Graph('GlIHCC')\n",
    "D6=Graph('LlIKCA?_C?O?G?')\n",
    "D7=Graph('IlIHCA?G?')\n",
    "D8=Graph('Ihd@CCMDO')\n",
    "D9=Graph('Khe?GCI?_C?O')\n",
    "D10=Graph('Khc_S?B?G@?C')\n",
    "D11=Graph('Khc_S?B?G@C?')\n",
    "D12=Graph('Mhe?GC@?G@GOC?C??')\n",
    "D13=Graph('Khc_c?@?G@?C')\n",
    "D14=Graph('Lhc_c?@?G?_@?A')\n",
    "D15=Graph('Ihe?H?BCG')\n",
    "D16=Graph('Khe?H?A?GAa@')\n",
    "D17=Graph('IhcGGcAO?')\n",
    "D18=Graph('IhcGGcA?G')\n",
    "D19=Graph('IhcGa?@?G')\n",
    "D20=Graph('Ghc_Gc')\n",
    "D21=Graph('KhCGOO__C?O?')\n",
    "D22=Graph('Khe?GC@?ICA?')\n",
    "D23=Graph('Khc_c?@?G?_@')\n",
    "D24=Graph('Jk_GGC@?QG?')\n",
    "D25=Graph('K^{rxcqnwsdQ')\n",
    "D26=Graph('J^lwww[J?w?')\n",
    "D27=Graph('H{L[`TF')\n",
    "D28=Graph('KFCO_ao^w__E')\n",
    "D29=Graph('JXG`F@~?XB?')\n",
    "D30=Graph('KX^hXWkB?W@_')\n",
    "D31=Graph('KnTRwf^CiDAS')"
   ]
  },
  {
   "cell_type": "code",
   "execution_count": 3,
   "id": "0c800693",
   "metadata": {
    "vscode": {
     "languageId": "sage"
    }
   },
   "outputs": [],
   "source": [
    "Z1=Graph('D][')\n",
    "Z2=Graph('Kh_OOCC?_?_C')\n",
    "Z3=Graph('ErGW')\n",
    "Z4=Graph('Er?W')\n",
    "Z5=Graph('FiCOG')\n",
    "Z6=Graph('GUC_Og')\n",
    "Z7=Graph('JdO_o?@?GG_')\n",
    "Z8=Graph('KdO_oGC@?G?_')\n",
    "Z9=Graph('I`d@@?K?O')\n",
    "Z10=Graph('I`d@?CK?_')\n",
    "Z11=Graph('KdH??OS??E_@')\n",
    "Z12=Graph('J`d@?W?@GC?')\n",
    "Z13=Graph('KdO_o?H@?G?_')\n",
    "Z14=Graph('HkC_OGP')\n",
    "Z15=Graph('JqGG_OC?_A_')\n",
    "Z16=Graph('K^]www[J?wB_')\n",
    "Z17=Graph('ErCo')\n",
    "Z18=Graph('ErOw')\n",
    "Z19=Graph('LXxxXWkJ?W@_B?')\n",
    "Z20=Graph('L?{GOOGUD~`@?E')\n",
    "Z21=Graph('KFCO_ao^w@aE')\n",
    "Z22=Graph('KXxxXWKB?W@_')\n",
    "Z23=Graph('L^Nx`_o^|~abHE')\n",
    "Z24=Graph('LnTRycQC_cZ~O`')\n",
    "Z25=Graph('KnTwggSvwgga')"
   ]
  },
  {
   "cell_type": "code",
   "execution_count": 4,
   "id": "8df17990",
   "metadata": {
    "vscode": {
     "languageId": "sage"
    }
   },
   "outputs": [],
   "source": [
    "W1=Graph('FkT@g')\n",
    "W2=Graph('DzK')\n",
    "W3=Graph('ExdW')\n",
    "W4=Graph('EpGG')\n",
    "W5=Graph('GiCGOC')\n",
    "W6=Graph('HkCGOC@')\n",
    "W7=Graph('IpGG?GB?G')\n",
    "W8=Graph('Ih?WOO@?g')\n",
    "W9=Graph('IKOG_O@?g')"
   ]
  },
  {
   "cell_type": "markdown",
   "id": "ce60e61d",
   "metadata": {
    "vscode": {
     "languageId": "plaintext"
    }
   },
   "source": [
    "## The computation for the forbidden graphs in Lemma 3.5"
   ]
  },
  {
   "cell_type": "code",
   "execution_count": 5,
   "id": "8cf8bbb6",
   "metadata": {
    "vscode": {
     "languageId": "sage"
    }
   },
   "outputs": [
    {
     "name": "stdout",
     "output_type": "stream",
     "text": [
      "The second largest eigenvalue of every graph in the list is greater than 1.\n"
     ]
    }
   ],
   "source": [
    "# type (i) (except for Z_1 and K_{2,3}) in Lemma 3.5\n",
    "forbidden_graphs_1 = (\n",
    "    [Z2, Z3, Z4, Z5, Z6, Z7, Z8, Z9, Z10, Z11, Z12, Z13, Z14, Z15, Z16, \n",
    "     Z17, Z18, Z19, Z20, Z21, Z22, Z23, Z24, Z25] \n",
    "    + [T(7, 3, 2), T(6, 6, 2), T(7, 1, 3), T(3, 2, 1), T(3, 2, 3), \n",
    "       T(4, 1, 5), T(3, 2, 5), U([7, 1, 1], 3)]\n",
    "    + [U([1], i) for i in [6, 8, 10, 11]]\n",
    "    + [U([1, 1], 4), U([5, 0, 4], 4), U([7, 0, 3], 4), U([3], 7), \n",
    "       U([1, 1], 7), U([2], 9), U([1, 1], 9), U([1, 0, 1], 9), \n",
    "       U([1, 0, 0, 1], 9)]\n",
    "    + [B_minus(3, 7), B_minus(4, 5), B_minus(5, 4), B_minus(7, 3)]\n",
    ")\n",
    "\n",
    "# type (ii) in Lemma 3.5\n",
    "forbidden_graphs_2 = (\n",
    "    [G + K(1) for G in [U([1], 4), U([5], 5), T(9, 1, 1), K(1, 17) + K(2)]]\n",
    "    + [K(1, 17) + 3 * K(1)]\n",
    ")\n",
    "\n",
    "# type (iii) in Lemma 3.5\n",
    "forbidden_graphs_3 = [\n",
    "    G + 7 * K(1) for G in [K(1, 5), T(3, 1, 1), W5, W6, W7, W8, W9]\n",
    "]\n",
    "\n",
    "forbidden_graphs = forbidden_graphs_1 + forbidden_graphs_2 + forbidden_graphs_3\n",
    "\n",
    "flag = True\n",
    "for Z in forbidden_graphs:\n",
    "    if is_eig_2_not_exceeding_1(~Z):\n",
    "        flag = False\n",
    "if flag == True:\n",
    "    print('The second largest eigenvalue of every graph in the list is greater than 1.')"
   ]
  },
  {
   "cell_type": "markdown",
   "id": "c5d58239",
   "metadata": {},
   "source": [
    "## The computation for $\\mathcal{G}_1\\cup \\mathcal{G}_2$ in Theorem 4.3"
   ]
  },
  {
   "cell_type": "code",
   "execution_count": 6,
   "id": "3425df80",
   "metadata": {
    "vscode": {
     "languageId": "sage"
    }
   },
   "outputs": [
    {
     "name": "stdout",
     "output_type": "stream",
     "text": [
      "The second largest eigenvalue of every graph in the list is not exceeding 1.\n"
     ]
    }
   ],
   "source": [
    "G1 = [D1,D2,D3,D4,D5,D6,D7,D8,D9,D10,D11,D12,D13,D14,D15,D16] + [U([4,0,4],4),U([6,0,3],4),U([6,0,1,1],5),U([2,0,2],5),U([2,0,2],7),U([1,0,2,0,1],7),U([1,0,0,0,1],9)]\n",
    "G2 = [D25,D26,D27,D28,D29,D30,D31] + [U([2,2,2],3),U([6,1,1],3),B(6,3),B(4,4)]\n",
    "\n",
    "flag = True\n",
    "for G in G1 + G2:\n",
    "    if not is_eig_2_not_exceeding_1(~G):\n",
    "        flag = False\n",
    "if flag == True:\n",
    "    print('The second largest eigenvalue of every graph in the list is not exceeding 1.')"
   ]
  },
  {
   "cell_type": "markdown",
   "id": "622d4c93",
   "metadata": {},
   "source": [
    "## The computation for $\\bigcup_{i=2}^{8} \\mathcal{F}_i$ in Theorem 4.3"
   ]
  },
  {
   "cell_type": "code",
   "execution_count": 7,
   "id": "3b78bbd2",
   "metadata": {
    "vscode": {
     "languageId": "sage"
    }
   },
   "outputs": [],
   "source": [
    "A2_dict = {\n",
    "    2: T(0, 2, 2).adjacency_matrix(),\n",
    "    3: U([0, 0, 2], 4).adjacency_matrix(),\n",
    "    4: (K(1) + C(4)).adjacency_matrix(),\n",
    "    5: W1.adjacency_matrix(),\n",
    "    6: W2.adjacency_matrix(),\n",
    "    7: W3.adjacency_matrix(),\n",
    "    8: B(0, 2).adjacency_matrix()\n",
    "}\n",
    "\n",
    "beta_dict = {\n",
    "    2: matrix([[1,0,0,0,0]]).transpose(),\n",
    "    3: matrix([[1,0,0,0,0,0]]).transpose(),\n",
    "    4: matrix([[1,0,0,0,0]]).transpose(),\n",
    "    5: matrix([[0,1,0,0,0,0,0]]).transpose(),\n",
    "    6: matrix([[0,1,0,1,0]]).transpose(),\n",
    "    7: matrix([[1,0,0,0,1,0]]).transpose(),\n",
    "    8: matrix([[1,1,0,0,0,0]]).transpose()\n",
    "}"
   ]
  },
  {
   "cell_type": "code",
   "execution_count": 8,
   "id": "762fe3f6",
   "metadata": {
    "vscode": {
     "languageId": "sage"
    }
   },
   "outputs": [
    {
     "name": "stdout",
     "output_type": "stream",
     "text": [
      "The smallest eigenvalue of every matrix_result is at least -2.\n"
     ]
    }
   ],
   "source": [
    "flag = True\n",
    "for i in range(2, 9):\n",
    "    A2=A2_dict[i]\n",
    "    beta=beta_dict[i]\n",
    "    j = matrix(A2.nrows()*[1]).transpose()\n",
    "    matrix_result = A2 - j*beta.transpose() - beta*j.transpose() + beta * beta.transpose()\n",
    "    if not is_eig_min_at_least_neg_2(matrix_result):\n",
    "        flag = False\n",
    "if flag == True:\n",
    "    print('The smallest eigenvalue of every matrix_result is at least -2.')"
   ]
  },
  {
   "cell_type": "markdown",
   "id": "19dfb328",
   "metadata": {},
   "source": [
    "## The computation for Fact 1 in Theorem 5.1"
   ]
  },
  {
   "cell_type": "code",
   "execution_count": 9,
   "id": "ed260101",
   "metadata": {
    "vscode": {
     "languageId": "sage"
    }
   },
   "outputs": [
    {
     "name": "stdout",
     "output_type": "stream",
     "text": [
      "5447\n"
     ]
    }
   ],
   "source": [
    "# Generate all trees of order not exceeding 14\n",
    "all_trees = []\n",
    "for n in range(1, 15):  # From 1 to 14\n",
    "    trees_of_order_n = list(graphs.trees(n))  # Generate trees of order n\n",
    "    all_trees.extend(trees_of_order_n)  # Add to the total list\n",
    "\n",
    "print(len(all_trees))\n",
    "# Filter trees whose second largest eigenvalue of the complement does not exceed 1\n",
    "valid_trees = []\n",
    "for tree in all_trees:\n",
    "    if not is_eig_2_not_exceeding_1(~tree):\n",
    "        continue\n",
    "    valid_trees.append(tree)\n",
    "\n",
    "# Generate all maximal trees among them\n",
    "maximal_trees = maximal_subgraphs(valid_trees)"
   ]
  },
  {
   "cell_type": "code",
   "execution_count": 10,
   "id": "35fe4abb",
   "metadata": {
    "vscode": {
     "languageId": "sage"
    }
   },
   "outputs": [
    {
     "name": "stdout",
     "output_type": "stream",
     "text": [
      "Every maximal tree is an induced subgraph of some graph in GL.\n"
     ]
    }
   ],
   "source": [
    "GL = G1 + [T(2,2,8),T(1,1,11),T(2,1,10),T(2,2,9),K(1,13),T(11,1,1),T(10,1,2),T(9,2,2)]\n",
    "\n",
    "flag = True\n",
    "for Tree in maximal_trees:\n",
    "    # Check if Tree is an induced subgraph of some graph in GL\n",
    "    is_induced_subgraph = False\n",
    "    for G in GL:\n",
    "        if Tree.order()>G.order() or any(Tree.degree_sequence()[i]>G.degree_sequence()[i] for i in range(Tree.order())):\n",
    "            continue        \n",
    "        if Tree.is_subgraph(G, induced=True, up_to_isomorphism=True):\n",
    "            is_induced_subgraph = True\n",
    "            break\n",
    "    if not is_induced_subgraph:\n",
    "        flag = False\n",
    "if flag == True:\n",
    "    print('Every maximal tree is an induced subgraph of some graph in GL.')"
   ]
  },
  {
   "cell_type": "markdown",
   "id": "faba4070",
   "metadata": {},
   "source": [
    "# Generate $H_0^+$ and $H_0^-$ as defined preceding Lemma 6.4"
   ]
  },
  {
   "cell_type": "code",
   "execution_count": 11,
   "id": "f9c33571-0e35-453b-a884-3e8da5d46845",
   "metadata": {
    "vscode": {
     "languageId": "sage"
    }
   },
   "outputs": [
    {
     "data": {
      "text/plain": [
       "[198, 64]"
      ]
     },
     "execution_count": 11,
     "metadata": {},
     "output_type": "execute_result"
    }
   ],
   "source": [
    "H0_minus = []\n",
    "H0_plus = []\n",
    "for G in G1 + [T(8,2,2), K(1,16)]:\n",
    "    minus_graphs, plus_graphs = classify_connected_induced_subgraphs_by_smallest_eigenvalue_less_than_negative_2_or_not(G)\n",
    "    H0_minus.extend(minus_graphs)\n",
    "    H0_plus.extend(plus_graphs)\n",
    "H0_minus = graph_unique(H0_minus)\n",
    "H0_plus = graph_unique(H0_plus)\n",
    "[len(H0_minus),len(H0_plus)]"
   ]
  },
  {
   "cell_type": "markdown",
   "id": "2d58fa21",
   "metadata": {},
   "source": [
    "## Generate $H^+$ as defined following Lemma 6.6"
   ]
  },
  {
   "cell_type": "code",
   "execution_count": 12,
   "id": "aa4b464e-c4da-4277-b341-533afd45bb49",
   "metadata": {
    "vscode": {
     "languageId": "sage"
    }
   },
   "outputs": [
    {
     "data": {
      "text/plain": [
       "67"
      ]
     },
     "execution_count": 12,
     "metadata": {},
     "output_type": "execute_result"
    }
   ],
   "source": [
    "minimal_H0_minus = minimal_subgraphs(H0_minus)\n",
    "maximal_H0_plus = maximal_subgraphs(H0_plus)\n",
    "maximal_H_plus = [K(1,4), D8, D15, D17, D18, D19, T(2,1,7)] + [C(i) for i in range(4,14)] + [T(2,2,i) for i in range(1,6)]\n",
    "H_plus = graph_unique(sum([list(G.connected_subgraph_iterator()) for G in maximal_H_plus], []))\n",
    "len(H_plus)"
   ]
  },
  {
   "cell_type": "markdown",
   "id": "7debfc64",
   "metadata": {},
   "source": [
    "# The three-step algorithm following Lemma 6.7"
   ]
  },
  {
   "cell_type": "code",
   "execution_count": 13,
   "id": "9dd5de76-8766-49f8-baa8-cfb2570b07f9",
   "metadata": {
    "vscode": {
     "languageId": "sage"
    }
   },
   "outputs": [
    {
     "data": {
      "text/plain": [
       "([198, 2, 4, 10, 24, 17, 10], 177)"
      ]
     },
     "execution_count": 13,
     "metadata": {},
     "output_type": "execute_result"
    }
   ],
   "source": [
    "from collections import Counter\n",
    "from itertools import product, chain\n",
    "\n",
    "def classify_graphs_by_independence_number(Glist):\n",
    "    \"\"\"Classify graphs by their independence number into categories i=1 to 6\"\"\"\n",
    "    classified_graphs = {i: [] for i in range (1,7)}\n",
    "    for G in Glist:\n",
    "        i = len(G.independent_set())\n",
    "        classified_graphs[i].append(G)\n",
    "    return classified_graphs\n",
    "\n",
    "def index2graph(classified_graphs, Index):\n",
    "    \"\"\"Reconstruct graph from index representation\n",
    "    Args:\n",
    "        classified_graphs: dict storing graphs categorized by independence number\n",
    "        Index: list of tuples (category_idx, graph_idx) specifying which graphs to combine\n",
    "    Returns:\n",
    "        Disjoint union of specified graphs\n",
    "    \"\"\"\n",
    "    H_2=graphs.EmptyGraph()\n",
    "    # Each entry in Index is a tuple (a,b) representing classified_graphs[a][b]\n",
    "    for L in Index:\n",
    "        H_2=H_2+classified_graphs[L[0]][L[1]]\n",
    "    return H_2\n",
    "\n",
    "def generate_possible_H_light(classified_graphs):\n",
    "    \"\"\"Generate possible combinations for G-H_1 components\n",
    "    Returns:\n",
    "        Nested dictionary structure:\n",
    "        - Key level 1: independence number j (1-6)\n",
    "        - Key level 2: number of components i\n",
    "        - Value: list of index combinations for i components from j's graph list\n",
    "    \"\"\"\n",
    "    return {\n",
    "        j: [\n",
    "            [[(j, M1) for M1 in M]  # Create index tuples for each component\n",
    "            for M in unordered_tuples(range(len(classified_graphs[j])), i)]\n",
    "            # Limit maximum components based on independence number\n",
    "            for i in range(0, 7 if j == 1 else 4 if j == 2 else 3 if j == 3 else 2)            \n",
    "        ]\n",
    "        for j in range(1, 7)\n",
    "    }\n",
    "\n",
    "def generate_G3_0(classified_graphs, H0_minus):\n",
    "    \"\"\"Generate index list for G3_0 candidates\n",
    "    Args:\n",
    "        classified_graphs: pre-classified graph collections\n",
    "        H0_minus: list of graphs with λ_min < -2\n",
    "    \"\"\"\n",
    "    G3_0 = []\n",
    "    possible_H_light = generate_possible_H_light(classified_graphs)\n",
    "\n",
    "    # Iterate through all H_1 candidates in H0_minus\n",
    "    for a, H_1 in enumerate(H0_minus):\n",
    "        k = maximal_independent_number_for_fixed_VG_minus_H1(H_1)\n",
    "        valid_indices = []\n",
    "\n",
    "        # Generate all valid component combinations\n",
    "        for i in range(1, k + 1):\n",
    "            for L in Partitions(i):  # Integer partitions of i\n",
    "                L_count = Counter(L)\n",
    "                # Get possible component combinations for current partition\n",
    "                possible_l = [possible_H_light[l][c] for l, c in L_count.items()]\n",
    "                # Cartesian product of all component possibilities, corresponding to all possible graphs in Lambda(H_1)\n",
    "                for L1 in product(*possible_l):\n",
    "                    flatten_L1 = list(chain.from_iterable(L1))\n",
    "                    H_light = index2graph(classified_graphs, flatten_L1)\n",
    "                    # Check eigenvalue condition for complement graph\n",
    "                    if is_eig_2_not_exceeding_1(~(H_1 + H_light)):\n",
    "                        valid_indices.append(flatten_L1)\n",
    "\n",
    "        # Keep only maximal valid configurations\n",
    "        valid_graphs = [index2graph(classified_graphs, L1) for L1 in valid_indices] # corresponds to \\mathcal{G}(H_1)\n",
    "        maximal_valid_indices = [valid_indices[i] for i in maximal_subgraphs(valid_graphs, index_only=True)] # the indices of the maximal graphs in \\mathcal{G}(H_1)\n",
    "\n",
    "        # Combine H_1 index with valid H_light indices\n",
    "        G3_0.extend([[(0, a)] + H_light_index for H_light_index in maximal_valid_indices])\n",
    "\n",
    "    return G3_0\n",
    "\n",
    "# Main logic flow:\n",
    "# 1. Classify H_plus graphs by independence number (1-6)\n",
    "# 2. Store H0_minus in classified_graphs[0]\n",
    "# 3. Generate candidate indices for G3_0\n",
    "classified_graphs = classify_graphs_by_independence_number(H_plus)\n",
    "classified_graphs[0] = H0_minus\n",
    "G3_0 = generate_G3_0(classified_graphs, H0_minus)\n",
    "[len(classified_graphs[i]) for i in range(0,7)],len(G3_0)"
   ]
  },
  {
   "cell_type": "code",
   "execution_count": 14,
   "id": "aee5cb34-76b8-4026-ad97-e8fddfc9ea61",
   "metadata": {
    "vscode": {
     "languageId": "sage"
    }
   },
   "outputs": [],
   "source": [
    "from sage.graphs.connectivity import connected_components_subgraphs\n",
    "\n",
    "def is_star(G):\n",
    "    # Determines whether graph G is a star graph\n",
    "    return max(G.degree())==G.size()\n",
    "    \n",
    "def is_4_cycle(G):\n",
    "    # Determines whether graph G is a 4-cycle\n",
    "    return G.is_cycle() and G.order()==4\n",
    "\n",
    "def is_the_union_of_a_star_and_a_4_cycle(G):\n",
    "    # Determines whether graph G is a disjoint union of a star graph and a 4-cycle\n",
    "    from sage.graphs.connectivity import connected_components_subgraphs\n",
    "    all_connected_components = connected_components_subgraphs(G)\n",
    "    if len(all_connected_components) == 2:\n",
    "        C1, C2 = all_connected_components\n",
    "        return (is_star(C1) and is_4_cycle(C2)) or (is_star(C2) and is_4_cycle(C1))\n",
    "    return False\n"
   ]
  },
  {
   "cell_type": "code",
   "execution_count": 15,
   "id": "614bc0dd-d67d-4958-a0aa-360fea79f23f",
   "metadata": {
    "vscode": {
     "languageId": "sage"
    }
   },
   "outputs": [],
   "source": [
    "from sage.combinat.combination import Combinations\n",
    "# Filter out graphs contained in 𝒢₁ or ℱ₄  \n",
    "G3_1 = []  # Stores indices after removing graphs contained in 𝒢₁ or ℱ₄ \n",
    "for ind in G3_0:\n",
    "    G = index2graph(classified_graphs, ind)\n",
    "    if not is_the_union_of_a_star_and_a_4_cycle(G) and not any(G.is_subgraph(G0, induced=True, up_to_isomorphism=True) for G0 in G1):\n",
    "        G3_1.append(ind)"
   ]
  },
  {
   "cell_type": "markdown",
   "id": "71495817",
   "metadata": {},
   "source": [
    "Theoretically, we could directly compute maximal graphs from G3_1 to obtain G3_index. However, \n",
    "this approach fails due to issues with the 'is_subgraph' function when handling graphs containing \n",
    "high-order star graphs as induced subgraphs (e.g., 'T(10,2,1).is_subgraph(K(1,13), induced=True, \n",
    "up_to_isomorphism=True)' fails). Therefore, we implemented optimizations:\n",
    "\n",
    "<div style=\"line-height: 1.2;\">\n",
    "    \n",
    "1. Filter G3_1 to remove graphs where both $H_{\\text{heavy}}$ and $H_{\\text{light}}$ are proper \n",
    "   induced subgraphs of another graph's $H_{\\text{heavy}}$ and $H_{\\text{light}}$ respectively, \n",
    "   resulting in G3_2.\n",
    "\n",
    "2. Note that since $\\lambda_{\\min}(K_{1,5}) < -2$, star graphs of order ≥6 can only appear in \n",
    "   $H_{\\text{heavy}}$.\n",
    "\n",
    "3. Classify G3_2 into \"star_graphs\" and \"no_star_graphs\" based on whether $H_{\\text{heavy}}$ \n",
    "   is a star graph.\n",
    "\n",
    "4. Compute maximal graphs from no_star_graphs (their indices), verify that no star_graphs are \n",
    "   induced subgraphs of these maximal graphs, and finally combine them into G3_index while \n",
    "   converting to graph list G3.\n",
    "</div>"
   ]
  },
  {
   "cell_type": "code",
   "execution_count": 16,
   "id": "8e6dc5a5",
   "metadata": {
    "vscode": {
     "languageId": "sage"
    }
   },
   "outputs": [
    {
     "data": {
      "text/plain": [
       "74"
      ]
     },
     "execution_count": 16,
     "metadata": {},
     "output_type": "execute_result"
    }
   ],
   "source": [
    "# Extract unique heavy component indices that appear in G3_1\n",
    "heavy_indices = list({L[0][1] for L in G3_1})  # Using set to ensure uniqueness\n",
    "\n",
    "# Build subgraph relationship map between heavy components\n",
    "subgraph_map = {i: [] for i in heavy_indices}\n",
    "for i, j in Combinations(heavy_indices, 2):\n",
    "    G_i, G_j = H0_minus[i], H0_minus[j]\n",
    "    if G_j.is_subgraph(G_i, induced=True, up_to_isomorphism=True):\n",
    "        subgraph_map[j].append(i)\n",
    "    if G_i.is_subgraph(G_j, induced=True, up_to_isomorphism=True):\n",
    "        subgraph_map[i].append(j)\n",
    "\n",
    "# Filter graphs where both components are maximal\n",
    "G3_2 = [\n",
    "    ind for ind in G3_1\n",
    "    if not any(\n",
    "        other_ind[0][1] in subgraph_map[ind[0][1]] and \n",
    "        index2graph(classified_graphs, ind[1:]).is_subgraph(\n",
    "            index2graph(classified_graphs, other_ind[1:]), \n",
    "            induced=True, up_to_isomorphism=True\n",
    "        )\n",
    "        for other_ind in G3_1\n",
    "    )\n",
    "]\n",
    "\n",
    "# Handle star components and finalize maximal graphs\n",
    "star_candidates = [ind for ind in G3_2 if is_star(classified_graphs[ind[0][0]][ind[0][1]])]  # Star graphs ≥6 are automatically maximal\n",
    "no_star_candidates = [ind for ind in G3_2 if not is_star(classified_graphs[ind[0][0]][ind[0][1]])]\n",
    "\n",
    "# Add maximal graphs with no star components\n",
    "star_graphs = [index2graph(classified_graphs, ind) for ind in star_candidates]\n",
    "no_star_graphs = [index2graph(classified_graphs, ind) for ind in no_star_candidates]\n",
    "maximal_indices = maximal_subgraphs(no_star_graphs, index_only=True)\n",
    "\n",
    "# Check if any star_graphs are induced subgraphs of no_star_graphs\n",
    "for Gi in star_graphs:\n",
    "    for Gj in no_star_graphs:\n",
    "        if Gi.is_subgraph(Gj, induced=True, up_to_isomorphism=True):\n",
    "            print(Gi, Gj)\n",
    "            break\n",
    "\n",
    "# Merge star_candidates and no_star_candidates\n",
    "G3_index = star_candidates + [no_star_candidates[i] for i in maximal_indices]\n",
    "# Final graph list\n",
    "G3 = [index2graph(classified_graphs, ind) for ind in G3_index]\n",
    "len(G3)"
   ]
  },
  {
   "cell_type": "code",
   "execution_count": 17,
   "id": "72c25a76-d4c9-4ef0-bd9f-8fd2fd88c6d5",
   "metadata": {
    "vscode": {
     "languageId": "sage"
    }
   },
   "outputs": [
    {
     "name": "stdout",
     "output_type": "stream",
     "text": [
      "G3 consists of the following graphs:\n"
     ]
    },
    {
     "data": {
      "text/html": [
       "<div class=\"notruncate\">\n",
       "<table  class=\"table_form\">\n",
       "<tbody>\n",
       "<tr class =\"row-a\">\n",
       "<td style=\"text-align:left\">\\(K_{1,5} \\cup T_{2,2;3}\\)</td>\n",
       "<td style=\"text-align:left\">\\(K_{1,5} \\cup C_{11}\\)</td>\n",
       "<td style=\"text-align:left\">\\(K_{1,5} \\cup C_{9} \\cup K_{2}\\)</td>\n",
       "<td style=\"text-align:left\">\\(K_{1,5} \\cup C_{6} \\cup C_{5}\\)</td>\n",
       "<td style=\"text-align:left\">\\(K_{1,5} \\cup C_{7} \\cup C_{5}\\)</td>\n",
       "<td style=\"text-align:left\">\\(K_{1,5} \\cup C_{7} \\cup C_{4}\\)</td>\n",
       "<td style=\"text-align:left\">\\(K_{1,5} \\cup C_{5} \\cup C_{5} \\cup K_{1}\\)</td>\n",
       "</tr>\n",
       "<tr class =\"row-b\">\n",
       "<td style=\"text-align:left\">\\(K_{1,5} \\cup C_{5} \\cup C_{4} \\cup K_{2}\\)</td>\n",
       "<td style=\"text-align:left\">\\(K_{1,5} \\cup C_{12}\\)</td>\n",
       "<td style=\"text-align:left\">\\(K_{1,5} \\cup C_{10} \\cup K_{1}\\)</td>\n",
       "<td style=\"text-align:left\">\\(K_{1,5} \\cup D_{8} \\cup C_{4}\\)</td>\n",
       "<td style=\"text-align:left\">\\(K_{1,5} \\cup D_{20} \\cup C_{4}\\)</td>\n",
       "<td style=\"text-align:left\">\\(K_{1,5} \\cup C_{8} \\cup C_{4}\\)</td>\n",
       "<td style=\"text-align:left\">\\(K_{1,5} \\cup C_{6} \\cup C_{6}\\)</td>\n",
       "</tr>\n",
       "<tr class =\"row-a\">\n",
       "<td style=\"text-align:left\">\\(K_{1,5} \\cup C_{4} \\cup C_{4} \\cup C_{4}\\)</td>\n",
       "<td style=\"text-align:left\">\\(K_{1,6} \\cup C_{7}\\)</td>\n",
       "<td style=\"text-align:left\">\\(K_{1,6} \\cup C_{5} \\cup K_{2}\\)</td>\n",
       "<td style=\"text-align:left\">\\(K_{1,6} \\cup D_{8}\\)</td>\n",
       "<td style=\"text-align:left\">\\(K_{1,6} \\cup D_{20}\\)</td>\n",
       "<td style=\"text-align:left\">\\(K_{1,6} \\cup C_{8}\\)</td>\n",
       "<td style=\"text-align:left\">\\(K_{1,6} \\cup C_{4} \\cup C_{4}\\)</td>\n",
       "</tr>\n",
       "<tr class =\"row-b\">\n",
       "<td style=\"text-align:left\">\\(K_{1,7} \\cup C_{4} \\cup K_{2}\\)</td>\n",
       "<td style=\"text-align:left\">\\(K_{1,8} \\cup C_{6}\\)</td>\n",
       "<td style=\"text-align:left\">\\(K_{1,8} \\cup C_{4} \\cup K_{1}\\)</td>\n",
       "<td style=\"text-align:left\">\\(K_{1,10} \\cup K_{2} \\cup K_{2}\\)</td>\n",
       "<td style=\"text-align:left\">\\(K_{1,12} \\cup C_{5}\\)</td>\n",
       "<td style=\"text-align:left\">\\(K_{1,14} \\cup P_4\\)</td>\n",
       "<td style=\"text-align:left\">\\(K_{1,16} \\cup K_{1} \\cup K_{2}\\)</td>\n",
       "</tr>\n",
       "<tr class =\"row-a\">\n",
       "<td style=\"text-align:left\">\\(D_{21} \\cup K_{1}\\)</td>\n",
       "<td style=\"text-align:left\">\\(T_{3,1;1} \\cup T_{2,2;3}\\)</td>\n",
       "<td style=\"text-align:left\">\\(T_{3,1;1} \\cup C_{11}\\)</td>\n",
       "<td style=\"text-align:left\">\\(T_{3,1;1} \\cup C_{9} \\cup K_{2}\\)</td>\n",
       "<td style=\"text-align:left\">\\(T_{3,1;1} \\cup C_{6} \\cup C_{5}\\)</td>\n",
       "<td style=\"text-align:left\">\\(T_{3,1;1} \\cup C_{7} \\cup C_{5}\\)</td>\n",
       "<td style=\"text-align:left\">\\(T_{3,1;1} \\cup C_{7} \\cup C_{4}\\)</td>\n",
       "</tr>\n",
       "<tr class =\"row-b\">\n",
       "<td style=\"text-align:left\">\\(T_{3,1;1} \\cup C_{5} \\cup C_{5} \\cup K_{1}\\)</td>\n",
       "<td style=\"text-align:left\">\\(T_{3,1;1} \\cup C_{5} \\cup C_{4} \\cup K_{2}\\)</td>\n",
       "<td style=\"text-align:left\">\\(T_{3,1;1} \\cup C_{12}\\)</td>\n",
       "<td style=\"text-align:left\">\\(T_{3,1;1} \\cup C_{10} \\cup K_{1}\\)</td>\n",
       "<td style=\"text-align:left\">\\(T_{3,1;1} \\cup D_{8} \\cup C_{4}\\)</td>\n",
       "<td style=\"text-align:left\">\\(T_{3,1;1} \\cup D_{20} \\cup C_{4}\\)</td>\n",
       "<td style=\"text-align:left\">\\(T_{3,1;1} \\cup C_{8} \\cup C_{4}\\)</td>\n",
       "</tr>\n",
       "<tr class =\"row-a\">\n",
       "<td style=\"text-align:left\">\\(T_{3,1;1} \\cup C_{6} \\cup C_{6}\\)</td>\n",
       "<td style=\"text-align:left\">\\(T_{3,1;1} \\cup C_{4} \\cup C_{4} \\cup C_{4}\\)</td>\n",
       "<td style=\"text-align:left\">\\(T_{3,1;2} \\cup C_{9}\\)</td>\n",
       "<td style=\"text-align:left\">\\(T_{3,1;2} \\cup C_{7} \\cup K_{2}\\)</td>\n",
       "<td style=\"text-align:left\">\\(T_{3,1;2} \\cup C_{5} \\cup C_{5}\\)</td>\n",
       "<td style=\"text-align:left\">\\(T_{3,1;2} \\cup C_{5} \\cup C_{4}\\)</td>\n",
       "<td style=\"text-align:left\">\\(T_{3,1;2} \\cup C_{10}\\)</td>\n",
       "</tr>\n",
       "<tr class =\"row-b\">\n",
       "<td style=\"text-align:left\">\\(T_{3,1;2} \\cup C_{6} \\cup C_{4}\\)</td>\n",
       "<td style=\"text-align:left\">\\(T_{3,3;2} \\cup C_{5}\\)</td>\n",
       "<td style=\"text-align:left\">\\(T_{3,3;2} \\cup C_{6}\\)</td>\n",
       "<td style=\"text-align:left\">\\(T_{3,3;2} \\cup C_{4} \\cup K_{1}\\)</td>\n",
       "<td style=\"text-align:left\">\\(U_{5}^{2,0,2} \\cup C_{7}\\)</td>\n",
       "<td style=\"text-align:left\">\\(U_{5}^{2,0,2} \\cup C_{5} \\cup K_{2}\\)</td>\n",
       "<td style=\"text-align:left\">\\(U_{5}^{2,0,2} \\cup D_{8}\\)</td>\n",
       "</tr>\n",
       "<tr class =\"row-a\">\n",
       "<td style=\"text-align:left\">\\(U_{5}^{2,0,2} \\cup D_{20}\\)</td>\n",
       "<td style=\"text-align:left\">\\(U_{5}^{2,0,2} \\cup C_{8}\\)</td>\n",
       "<td style=\"text-align:left\">\\(U_{5}^{2,0,2} \\cup C_{4} \\cup C_{4}\\)</td>\n",
       "<td style=\"text-align:left\">\\(U_{5}^{2,0,1,1} \\cup C_{7}\\)</td>\n",
       "<td style=\"text-align:left\">\\(U_{5}^{2,0,1,1} \\cup C_{5} \\cup K_{2}\\)</td>\n",
       "<td style=\"text-align:left\">\\(U_{5}^{2,0,1,1} \\cup D_{8}\\)</td>\n",
       "<td style=\"text-align:left\">\\(U_{5}^{2,0,1,1} \\cup D_{20}\\)</td>\n",
       "</tr>\n",
       "<tr class =\"row-b\">\n",
       "<td style=\"text-align:left\">\\(U_{5}^{2,0,1,1} \\cup C_{8}\\)</td>\n",
       "<td style=\"text-align:left\">\\(U_{5}^{2,0,1,1} \\cup C_{4} \\cup C_{4}\\)</td>\n",
       "<td style=\"text-align:left\">\\(D_{11} \\cup C_{4}\\)</td>\n",
       "<td style=\"text-align:left\">\\(D_{22} \\cup K_{1}\\)</td>\n",
       "<td style=\"text-align:left\">\\(D_{24} \\cup C_{4}\\)</td>\n",
       "<td style=\"text-align:left\">\\(D_{23} \\cup K_{1}\\)</td>\n",
       "<td style=\"text-align:left\">\\(D_{16} \\cup C_{4}\\)</td>\n",
       "</tr>\n",
       "<tr class =\"row-a\">\n",
       "<td style=\"text-align:left\">\\(T_{4,4;2} \\cup C_{4}\\)</td>\n",
       "<td style=\"text-align:left\">\\(U_{7}^{1,0,1,0,1} \\cup C_{5}\\)</td>\n",
       "<td style=\"text-align:left\">\\(U_{7}^{1,0,1,0,1} \\cup C_{6}\\)</td>\n",
       "<td style=\"text-align:left\">\\(U_{7}^{1,0,1,0,1} \\cup C_{4} \\cup K_{1}\\)</td>\n",
       "</tr>\n",
       "</tbody>\n",
       "</table>\n",
       "</div>"
      ],
      "text/plain": [
       "  $K_{1,5} \\cup T_{2,2;3}$                       $K_{1,5} \\cup C_{11}$                          $K_{1,5} \\cup C_{9} \\cup K_{2}$         $K_{1,5} \\cup C_{6} \\cup C_{5}$\n",
       "  $K_{1,5} \\cup C_{5} \\cup C_{4} \\cup K_{2}$     $K_{1,5} \\cup C_{12}$                          $K_{1,5} \\cup C_{10} \\cup K_{1}$        $K_{1,5} \\cup D_{8} \\cup C_{4}$\n",
       "  $K_{1,5} \\cup C_{4} \\cup C_{4} \\cup C_{4}$     $K_{1,6} \\cup C_{7}$                           $K_{1,6} \\cup C_{5} \\cup K_{2}$         $K_{1,6} \\cup D_{8}$\n",
       "  $K_{1,7} \\cup C_{4} \\cup K_{2}$                $K_{1,8} \\cup C_{6}$                           $K_{1,8} \\cup C_{4} \\cup K_{1}$         $K_{1,10} \\cup K_{2} \\cup K_{2}$\n",
       "  $D_{21} \\cup K_{1}$                            $T_{3,1;1} \\cup T_{2,2;3}$                     $T_{3,1;1} \\cup C_{11}$                 $T_{3,1;1} \\cup C_{9} \\cup K_{2}$\n",
       "  $T_{3,1;1} \\cup C_{5} \\cup C_{5} \\cup K_{1}$   $T_{3,1;1} \\cup C_{5} \\cup C_{4} \\cup K_{2}$   $T_{3,1;1} \\cup C_{12}$                 $T_{3,1;1} \\cup C_{10} \\cup K_{1}$\n",
       "  $T_{3,1;1} \\cup C_{6} \\cup C_{6}$              $T_{3,1;1} \\cup C_{4} \\cup C_{4} \\cup C_{4}$   $T_{3,1;2} \\cup C_{9}$                  $T_{3,1;2} \\cup C_{7} \\cup K_{2}$\n",
       "  $T_{3,1;2} \\cup C_{6} \\cup C_{4}$              $T_{3,3;2} \\cup C_{5}$                         $T_{3,3;2} \\cup C_{6}$                  $T_{3,3;2} \\cup C_{4} \\cup K_{1}$\n",
       "  $U_{5}^{2,0,2} \\cup D_{20}$                    $U_{5}^{2,0,2} \\cup C_{8}$                     $U_{5}^{2,0,2} \\cup C_{4} \\cup C_{4}$   $U_{5}^{2,0,1,1} \\cup C_{7}$\n",
       "  $U_{5}^{2,0,1,1} \\cup C_{8}$                   $U_{5}^{2,0,1,1} \\cup C_{4} \\cup C_{4}$        $D_{11} \\cup C_{4}$                     $D_{22} \\cup K_{1}$\n",
       "  $T_{4,4;2} \\cup C_{4}$                         $U_{7}^{1,0,1,0,1} \\cup C_{5}$                 $U_{7}^{1,0,1,0,1} \\cup C_{6}$          $U_{7}^{1,0,1,0,1} \\cup C_{4} \\cup K_{1}$"
      ]
     },
     "execution_count": 17,
     "metadata": {},
     "output_type": "execute_result"
    }
   ],
   "source": [
    "# Extract unique valid indices from G3_index\n",
    "G3_valid_index = list(set([ind1 for ind in G3_index for ind1 in ind]))\n",
    "\n",
    "# Manually map these indices to their corresponding graph types in a dictionary\n",
    "G3_components_dict = {\n",
    "    (4, 12): 'D_{20}',\n",
    "    (0, 57): 'K_{1,7}',\n",
    "    (2, 2): 'C_{5}',\n",
    "    (1, 0): 'K_{1}',\n",
    "    (0, 8): 'D_{21}',\n",
    "    (0, 127): 'D_{11}',\n",
    "    (0, 191): 'K_{1,10}',\n",
    "    (0, 197): 'K_{1,16}',\n",
    "    (0, 38): 'K_{1,5}',\n",
    "    (0, 157): 'D_{24}',\n",
    "    (3, 9): 'C_{7}',\n",
    "    (5, 6): 'T_{2,2;3}',\n",
    "    (3, 6): 'C_{6}',\n",
    "    (4, 17): 'C_{8}',\n",
    "    (0, 117): 'U_{5}^{2,0,1,1}',\n",
    "    (5, 15): 'C_{11}',\n",
    "    (0, 187): 'U_{7}^{1,0,1,0,1}',\n",
    "    (4, 23): 'C_{9}',\n",
    "    (2, 1): 'P_4',\n",
    "    (0, 193): 'K_{1,12}',\n",
    "    (0, 22): 'T_{3,1;2}',\n",
    "    (0, 104): 'K_{1,8}',\n",
    "    (0, 107): 'U_{5}^{2,0,2}',\n",
    "    (4, 4): 'D_{8}',\n",
    "    (0, 165): 'D_{23}',\n",
    "    (0, 171): 'D_{16}',\n",
    "    (0, 177): 'T_{4,4;2}',\n",
    "    (0, 49): 'K_{1,6}',\n",
    "    (5, 14): 'C_{10}',\n",
    "    (1, 1): 'K_{2}',\n",
    "    (2, 3): 'C_{4}',\n",
    "    (0, 137): 'D_{22}',\n",
    "    (0, 195): 'K_{1,14}',\n",
    "    (0, 21): 'T_{3,1;1}',\n",
    "    (6, 6): 'C_{12}',\n",
    "    (0, 24): 'T_{3,3;2}',\n",
    "}\n",
    "union_symbol = r' \\cup '\n",
    "# Represent each graph in G3 as a disjoint union of the corresponding graphs in G3_components_dict\n",
    "for i, G in enumerate(G3):\n",
    "    G.name(f\"${union_symbol.join(G3_components_dict[k] for k in G3_index[i])}$\")\n",
    "G3_rows = [G3[i:i+7] for i in range(0, len(G3), 7)]\n",
    "print('G3 consists of the following graphs:')\n",
    "table([[G.name() for G in G3_row] for G3_row in G3_rows])"
   ]
  },
  {
   "cell_type": "markdown",
   "id": "3fcf4984",
   "metadata": {},
   "source": [
    "## The computation for $\\mathcal{G}_3$ in Theorem 4.3"
   ]
  },
  {
   "cell_type": "code",
   "execution_count": 18,
   "id": "bd267ac6",
   "metadata": {
    "vscode": {
     "languageId": "sage"
    }
   },
   "outputs": [
    {
     "name": "stdout",
     "output_type": "stream",
     "text": [
      "The second largest eigenvalue of every graph in the list is not exceeding 1.\n"
     ]
    }
   ],
   "source": [
    "# Filter graphs in G3 where the complement graph's second eigenvalue exceeds 1\n",
    "flag = True\n",
    "for G in G3:\n",
    "    if not is_eig_2_not_exceeding_1(~G):\n",
    "        flag = False\n",
    "if flag == True:\n",
    "    print('The second largest eigenvalue of every graph in the list is not exceeding 1.')"
   ]
  }
 ],
 "metadata": {
  "kernelspec": {
   "display_name": "SageMath 10.4",
   "language": "sage",
   "name": "sagemath"
  },
  "language_info": {
   "codemirror_mode": {
    "name": "ipython",
    "version": 3
   },
   "file_extension": ".py",
   "mimetype": "text/x-python",
   "name": "python",
   "nbconvert_exporter": "python",
   "pygments_lexer": "ipython3",
   "version": "3.10.12"
  }
 },
 "nbformat": 4,
 "nbformat_minor": 5
}
